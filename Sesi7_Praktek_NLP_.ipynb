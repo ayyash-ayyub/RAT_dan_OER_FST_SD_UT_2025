{
  "cells": [
    {
      "cell_type": "markdown",
      "metadata": {
        "id": "6nHlX7U-ph0G"
      },
      "source": [
        "# 📘 Proyek NLP Dasar: Analisis Teks dari Universitas Terbuka\n",
        "Langkah-langkah dasar analisis teks (NLP) menggunakan NLTK."
      ],
      "id": "6nHlX7U-ph0G"
    },
    {
      "cell_type": "code",
      "execution_count": 1,
      "metadata": {
        "id": "ykBJAMchph0I"
      },
      "outputs": [],
      "source": [
        "# Install library yang diperlukan\n",
        "!pip install nltk --quiet"
      ],
      "id": "ykBJAMchph0I"
    },
    {
      "cell_type": "code",
      "execution_count": 2,
      "metadata": {
        "colab": {
          "base_uri": "https://localhost:8080/"
        },
        "id": "GV7swud5ph0J",
        "outputId": "73abb3b9-bd21-4822-f6c4-ff61a0613b18"
      },
      "outputs": [
        {
          "output_type": "stream",
          "name": "stderr",
          "text": [
            "[nltk_data] Downloading package punkt to /root/nltk_data...\n",
            "[nltk_data]   Unzipping tokenizers/punkt.zip.\n",
            "[nltk_data] Downloading package stopwords to /root/nltk_data...\n",
            "[nltk_data]   Unzipping corpora/stopwords.zip.\n"
          ]
        },
        {
          "output_type": "execute_result",
          "data": {
            "text/plain": [
              "True"
            ]
          },
          "metadata": {},
          "execution_count": 2
        }
      ],
      "source": [
        "import nltk\n",
        "import string\n",
        "import re\n",
        "from nltk.tokenize import word_tokenize\n",
        "from nltk.corpus import stopwords\n",
        "from collections import Counter\n",
        "\n",
        "nltk.download('punkt')\n",
        "nltk.download('stopwords')"
      ],
      "id": "GV7swud5ph0J"
    },
    {
      "cell_type": "code",
      "execution_count": 7,
      "metadata": {
        "colab": {
          "base_uri": "https://localhost:8080/"
        },
        "id": "MRXeFvaBph0K",
        "outputId": "269ef11a-a3e9-4f4f-c322-013a930d56ba"
      },
      "outputs": [
        {
          "output_type": "stream",
          "name": "stderr",
          "text": [
            "[nltk_data] Downloading package punkt to /root/nltk_data...\n",
            "[nltk_data]   Package punkt is already up-to-date!\n",
            "[nltk_data] Downloading package stopwords to /root/nltk_data...\n",
            "[nltk_data]   Package stopwords is already up-to-date!\n"
          ]
        },
        {
          "output_type": "execute_result",
          "data": {
            "text/plain": [
              "True"
            ]
          },
          "metadata": {},
          "execution_count": 7
        }
      ],
      "source": [
        "import nltk\n",
        "nltk.download('punkt')\n",
        "nltk.download('stopwords')\n"
      ],
      "id": "MRXeFvaBph0K"
    },
    {
      "cell_type": "code",
      "source": [
        "import re\n",
        "\n",
        "def simple_tokenize(text):\n",
        "    text = text.lower()\n",
        "    text = re.sub(r'[^a-zA-Z\\s]', '', text)  # hapus angka dan tanda baca\n",
        "    tokens = text.split()\n",
        "    return tokens\n",
        "\n",
        "tokens = simple_tokenize(data)\n",
        "print(tokens)\n"
      ],
      "metadata": {
        "colab": {
          "base_uri": "https://localhost:8080/"
        },
        "id": "DfJnAPljqN4e",
        "outputId": "6b582a2e-96db-4975-e83c-2f809c0eca8a"
      },
      "id": "DfJnAPljqN4e",
      "execution_count": 10,
      "outputs": [
        {
          "output_type": "stream",
          "name": "stdout",
          "text": [
            "['universitas', 'terbuka', 'ut', 'adalah', 'perguruan', 'tinggi', 'negeri', 'ke', 'di', 'indonesia', 'yang', 'menerapkan', 'sistem', 'pendidikan', 'terbuka', 'dan', 'jarak', 'jauh', 'ut', 'memberikan', 'kesempatan', 'kepada', 'siapa', 'pun', 'warga', 'negara', 'indonesia', 'di', 'mana', 'pun', 'tempat', 'tinggalnya', 'untuk', 'mendapatkan', 'pendidikan', 'tinggi', 'dengan', 'sistem', 'pembelajaran', 'daring', 'dan', 'bahan', 'ajar', 'cetak', 'ut', 'mampu', 'menjangkau', 'seluruh', 'pelosok', 'nusantara']\n"
          ]
        }
      ]
    },
    {
      "cell_type": "code",
      "execution_count": 13,
      "metadata": {
        "colab": {
          "base_uri": "https://localhost:8080/"
        },
        "id": "3D2Ju3qcph0K",
        "outputId": "12cf6c7f-c091-4deb-e8e4-c24178b8013a"
      },
      "outputs": [
        {
          "output_type": "stream",
          "name": "stdout",
          "text": [
            "Token hasil preprocessing:\n",
            " ['universitas', 'terbuka', 'ut', 'adalah', 'perguruan', 'tinggi', 'negeri', 'ke', 'di', 'indonesia', 'yang', 'menerapkan', 'sistem', 'pendidikan', 'terbuka', 'dan', 'jarak', 'jauh', 'ut', 'memberikan', 'kesempatan', 'kepada', 'siapa', 'pun', 'warga', 'negara', 'indonesia', 'di', 'mana', 'pun', 'tempat', 'tinggalnya', 'untuk', 'mendapatkan', 'pendidikan', 'tinggi', 'dengan', 'sistem', 'pembelajaran', 'daring', 'dan', 'bahan', 'ajar', 'cetak', 'ut', 'mampu', 'menjangkau', 'seluruh', 'pelosok', 'nusantara']\n"
          ]
        }
      ],
      "source": [
        "from collections import Counter\n",
        "\n",
        "# 1. Paragraf sumber\n",
        "data = \"\"\"\n",
        "Universitas Terbuka (UT) adalah perguruan tinggi negeri ke-45 di Indonesia yang menerapkan sistem pendidikan terbuka dan jarak jauh.\n",
        "UT memberikan kesempatan kepada siapa pun warga negara Indonesia, di mana pun tempat tinggalnya, untuk mendapatkan pendidikan tinggi.\n",
        "Dengan sistem pembelajaran daring dan bahan ajar cetak, UT mampu menjangkau seluruh pelosok nusantara.\n",
        "\"\"\"\n",
        "\n",
        "# 2. Tokenisasi sederhana\n",
        "import re\n",
        "\n",
        "def simple_tokenize(text):\n",
        "    text = text.lower()\n",
        "    text = re.sub(r'[^a-zA-Z\\s]', '', text)  # hapus tanda baca dan angka\n",
        "    tokens = text.split()\n",
        "    return tokens\n",
        "\n",
        "clean_tokens = simple_tokenize(data)\n",
        "print(\"Token hasil preprocessing:\\n\", clean_tokens)\n"
      ],
      "id": "3D2Ju3qcph0K"
    },
    {
      "cell_type": "code",
      "source": [
        "# analisis frekuensi kata\n",
        "frekuensi = Counter(clean_tokens)\n",
        "print(\"10 Kata paling sering muncul:\")\n",
        "print(frekuensi.most_common(10))\n"
      ],
      "metadata": {
        "colab": {
          "base_uri": "https://localhost:8080/"
        },
        "id": "4ThR14pXq8hu",
        "outputId": "18d872c8-59a2-460b-f97b-d6c7973e961c"
      },
      "id": "4ThR14pXq8hu",
      "execution_count": 15,
      "outputs": [
        {
          "output_type": "stream",
          "name": "stdout",
          "text": [
            "10 Kata paling sering muncul:\n",
            "[('ut', 3), ('terbuka', 2), ('tinggi', 2), ('di', 2), ('indonesia', 2), ('sistem', 2), ('pendidikan', 2), ('dan', 2), ('pun', 2), ('universitas', 1)]\n"
          ]
        }
      ]
    },
    {
      "cell_type": "code",
      "execution_count": 16,
      "metadata": {
        "colab": {
          "base_uri": "https://localhost:8080/",
          "height": 614
        },
        "id": "ACTp9Sq_ph0K",
        "outputId": "236833ff-9511-4f0b-9207-b3bab0f14f8a"
      },
      "outputs": [
        {
          "output_type": "display_data",
          "data": {
            "text/plain": [
              "<Figure size 1000x600 with 1 Axes>"
            ],
            "image/png": "[encoded data removed]"
          },
          "metadata": {}
        }
      ],
      "source": [
        "# Visualisasi\n",
        "import matplotlib.pyplot as plt\n",
        "\n",
        "kata, jumlah = zip(*frekuensi.most_common(10))\n",
        "plt.figure(figsize=(10,6))\n",
        "plt.bar(kata, jumlah, color='skyblue')\n",
        "plt.title('10 Kata Terbanyak')\n",
        "plt.ylabel('Jumlah')\n",
        "plt.xlabel('Kata')\n",
        "plt.xticks(rotation=45)\n",
        "plt.show()"
      ],
      "id": "ACTp9Sq_ph0K"
    }
  ],
  "metadata": {
    "kernelspec": {
      "display_name": "Python 3",
      "language": "python",
      "name": "python3"
    },
    "language_info": {
      "name": "python",
      "version": "3.x"
    },
    "colab": {
      "provenance": []
    }
  },
  "nbformat": 4,
  "nbformat_minor": 5
}