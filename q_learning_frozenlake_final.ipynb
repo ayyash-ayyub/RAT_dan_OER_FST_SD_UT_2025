{
 "cells": [
  {
   "cell_type": "code",
   "execution_count": null,
   "id": "84df7f74",
   "metadata": {},
   "outputs": [],
   "source": [
    "# Install Gym versi 0.25.2 (kompatibel dengan NumPy terbaru di Google Colab)\n",
    "!pip install gym==0.25.2 --quiet\n"
   ]
  },
  {
   "cell_type": "code",
   "execution_count": null,
   "id": "0baf4968",
   "metadata": {},
   "outputs": [],
   "source": [
    "import gym\n",
    "import numpy as np\n",
    "import random\n",
    "import matplotlib.pyplot as plt\n",
    "\n",
    "# Inisialisasi environment\n",
    "env = gym.make(\"FrozenLake-v1\", is_slippery=False)\n",
    "\n",
    "# Q-table\n",
    "q_table = np.zeros([env.observation_space.n, env.action_space.n])\n",
    "\n",
    "# Parameter Q-learning\n",
    "alpha = 0.8\n",
    "gamma = 0.95\n",
    "epsilon = 0.1\n",
    "episodes = 1000\n",
    "\n",
    "print(f\"Jumlah State: {env.observation_space.n}\")\n",
    "print(f\"Jumlah Aksi: {env.action_space.n}\")\n"
   ]
  },
  {
   "cell_type": "code",
   "execution_count": null,
   "id": "df6c758f",
   "metadata": {},
   "outputs": [],
   "source": [
    "rewards = []\n",
    "\n",
    "for episode in range(episodes):\n",
    "    state = env.reset()\n",
    "    total_rewards = 0\n",
    "    done = False\n",
    "\n",
    "    while not done:\n",
    "        # Pilih aksi eksplorasi atau eksploitasi\n",
    "        if random.uniform(0, 1) < epsilon:\n",
    "            action = env.action_space.sample()\n",
    "        else:\n",
    "            action = np.argmax(q_table[state])\n",
    "\n",
    "        # Jalankan aksi\n",
    "        next_state, reward, done, _ = env.step(action)\n",
    "\n",
    "        # Update Q-table\n",
    "        old_value = q_table[state, action]\n",
    "        next_max = np.max(q_table[next_state])\n",
    "        q_table[state, action] = old_value + alpha * (reward + gamma * next_max - old_value)\n",
    "\n",
    "        state = next_state\n",
    "        total_rewards += reward\n",
    "\n",
    "    rewards.append(total_rewards)\n"
   ]
  },
  {
   "cell_type": "code",
   "execution_count": null,
   "id": "cfe7ebcd",
   "metadata": {},
   "outputs": [],
   "source": [
    "print(\"Q-table setelah training:\")\n",
    "print(q_table)\n",
    "\n",
    "print(f\"Rata-rata reward setelah training: {sum(rewards)/episodes}\")\n",
    "\n",
    "chunks = np.array_split(rewards, 10)\n",
    "avg_rewards = [np.sum(chunk) for chunk in chunks]\n",
    "\n",
    "plt.plot(avg_rewards)\n",
    "plt.xlabel(\"Episode Group (x100)\")\n",
    "plt.ylabel(\"Total Reward\")\n",
    "plt.title(\"Performa Agent per 100 Episode\")\n",
    "plt.grid(True)\n",
    "plt.show()\n"
   ]
  },
  {
   "cell_type": "code",
   "execution_count": null,
   "id": "eb3e5d1c",
   "metadata": {},
   "outputs": [],
   "source": [
    "state = env.reset()\n",
    "env.render()\n",
    "\n",
    "done = False\n",
    "while not done:\n",
    "    action = np.argmax(q_table[state])\n",
    "    state, reward, done, _ = env.step(action)\n",
    "    env.render()\n"
   ]
  }
 ],
 "metadata": {},
 "nbformat": 4,
 "nbformat_minor": 5
}