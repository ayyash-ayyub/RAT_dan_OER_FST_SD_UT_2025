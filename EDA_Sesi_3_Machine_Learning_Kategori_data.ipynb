{
  "nbformat": 4,
  "nbformat_minor": 0,
  "metadata": {
    "colab": {
      "provenance": []
    },
    "kernelspec": {
      "name": "python3",
      "display_name": "Python 3"
    },
    "language_info": {
      "name": "python"
    }
  },
  "cells": [
    {
      "cell_type": "code",
      "source": [
        "import pandas as pd\n",
        "import numpy as np\n",
        "\n",
        "# Data acak\n",
        "np.random.seed(42)  # agar hasil bisa direproduksi\n",
        "\n",
        "merek = np.random.choice(['abdul', 'adompo', 'rizal'], size=10)\n",
        "ukuran = np.random.choice(['S', 'M', 'XL'], size=10)\n",
        "harga = np.random.randint(500_000, 1_000_001, size=10)\n",
        "\n",
        "# Buat DataFrame\n",
        "df = pd.DataFrame({\n",
        "    'nama_barang': merek,\n",
        "    'ukuran': ukuran,\n",
        "    'harga': harga\n",
        "})\n",
        "\n",
        "# Tampilkan\n",
        "print(df)\n"
      ],
      "metadata": {
        "colab": {
          "base_uri": "https://localhost:8080/"
        },
        "id": "eFIk2Ihih2Fc",
        "outputId": "715ba2c1-4837-42da-ed17-e30bf7dc4164"
      },
      "execution_count": 3,
      "outputs": [
        {
          "output_type": "stream",
          "name": "stdout",
          "text": [
            "  nama_barang ukuran   harga\n",
            "0       rizal     XL  767455\n",
            "1       abdul     XL  603355\n",
            "2       rizal      S  735796\n",
            "3       rizal     XL  714176\n",
            "4       abdul      M  684779\n",
            "5       abdul      S  847449\n",
            "6       rizal      M  921909\n",
            "7      adompo      M  965148\n",
            "8       rizal      M  758795\n",
            "9       rizal      M  986232\n"
          ]
        }
      ]
    },
    {
      "cell_type": "code",
      "source": [
        "#mapping kategori\n",
        "ukuran_mapping = {\n",
        "    'S': 1,\n",
        "    'M': 2,\n",
        "    'XL': 3\n",
        "}\n",
        "\n"
      ],
      "metadata": {
        "id": "A1yZLshblnJG"
      },
      "execution_count": 4,
      "outputs": []
    },
    {
      "cell_type": "code",
      "source": [
        "df['ukuran'] = df['ukuran'].map(ukuran_mapping)\n",
        "print(df)"
      ],
      "metadata": {
        "colab": {
          "base_uri": "https://localhost:8080/"
        },
        "id": "6AsQO82amCR1",
        "outputId": "57583d34-54b7-4912-fd71-b14454106667"
      },
      "execution_count": 5,
      "outputs": [
        {
          "output_type": "stream",
          "name": "stdout",
          "text": [
            "  nama_barang  ukuran   harga\n",
            "0       rizal       3  767455\n",
            "1       abdul       3  603355\n",
            "2       rizal       1  735796\n",
            "3       rizal       3  714176\n",
            "4       abdul       2  684779\n",
            "5       abdul       1  847449\n",
            "6       rizal       2  921909\n",
            "7      adompo       2  965148\n",
            "8       rizal       2  758795\n",
            "9       rizal       2  986232\n"
          ]
        }
      ]
    },
    {
      "cell_type": "code",
      "source": [
        "#contoh encode labels\n",
        "import numpy as np\n"
      ],
      "metadata": {
        "id": "MRc2iv2knM9V"
      },
      "execution_count": 6,
      "outputs": []
    },
    {
      "cell_type": "code",
      "source": [
        "import pandas as pd\n",
        "import numpy as np\n",
        "\n",
        "# Data acak\n",
        "np.random.seed(42)  # agar hasil bisa direproduksi\n",
        "\n",
        "merek = np.random.choice(['abdul', 'adompo', 'rizal'], size=10)\n",
        "ukuran = np.random.choice(['S', 'M', 'XL'], size=10)\n",
        "harga = np.random.randint(500_000, 1_000_001, size=10)\n",
        "classlabel = np.random.choice(['class1', 'class2'], size=10)\n",
        "\n",
        "# Buat DataFrame\n",
        "df = pd.DataFrame({\n",
        "    'nama_barang': merek,\n",
        "    'ukuran': ukuran,\n",
        "    'harga': harga,\n",
        "    'classlabel': classlabel\n",
        "})\n",
        "\n",
        "# Tampilkan\n",
        "print(df)\n"
      ],
      "metadata": {
        "colab": {
          "base_uri": "https://localhost:8080/"
        },
        "id": "uKtAY4r8nYYt",
        "outputId": "3da7ef17-b053-4020-83fa-edfbf6df0eaa"
      },
      "execution_count": 7,
      "outputs": [
        {
          "output_type": "stream",
          "name": "stdout",
          "text": [
            "  nama_barang ukuran   harga classlabel\n",
            "0       rizal     XL  767455     class1\n",
            "1       abdul     XL  603355     class1\n",
            "2       rizal      S  735796     class1\n",
            "3       rizal     XL  714176     class1\n",
            "4       abdul      M  684779     class2\n",
            "5       abdul      S  847449     class2\n",
            "6       rizal      M  921909     class2\n",
            "7      adompo      M  965148     class2\n",
            "8       rizal      M  758795     class2\n",
            "9       rizal      M  986232     class1\n"
          ]
        }
      ]
    },
    {
      "cell_type": "code",
      "source": [
        "# mengecek nilai uniq dari classlabel\n",
        "class_mapping = {label : idx for idx, label in enumerate(np.unique(df['classlabel']))}\n",
        "print(class_mapping)"
      ],
      "metadata": {
        "colab": {
          "base_uri": "https://localhost:8080/"
        },
        "id": "OEQf-ttRoPd4",
        "outputId": "02f87ab3-af55-4c3c-c378-7c9771d37af3"
      },
      "execution_count": 8,
      "outputs": [
        {
          "output_type": "stream",
          "name": "stdout",
          "text": [
            "{'class1': 0, 'class2': 1}\n"
          ]
        }
      ]
    },
    {
      "cell_type": "code",
      "source": [
        "df['classlabel'] = df['classlabel'].map(class_mapping)\n",
        "print(df)"
      ],
      "metadata": {
        "colab": {
          "base_uri": "https://localhost:8080/"
        },
        "id": "Y767tuqWqCCy",
        "outputId": "0cba0b20-d9ff-40e5-cadd-c7c17f77bd78"
      },
      "execution_count": 9,
      "outputs": [
        {
          "output_type": "stream",
          "name": "stdout",
          "text": [
            "  nama_barang ukuran   harga  classlabel\n",
            "0       rizal     XL  767455           0\n",
            "1       abdul     XL  603355           0\n",
            "2       rizal      S  735796           0\n",
            "3       rizal     XL  714176           0\n",
            "4       abdul      M  684779           1\n",
            "5       abdul      S  847449           1\n",
            "6       rizal      M  921909           1\n",
            "7      adompo      M  965148           1\n",
            "8       rizal      M  758795           1\n",
            "9       rizal      M  986232           0\n"
          ]
        }
      ]
    },
    {
      "cell_type": "code",
      "source": [
        "# Mapping\n",
        "class_mapping = {label: idx for idx, label in enumerate(np.unique(df['classlabel']))}\n",
        "ukuran_mapping = {'S': 1, 'M': 2, 'XL': 3}\n",
        "\n",
        "# Terapkan mapping ke dua kolom\n",
        "df[['classlabel', 'ukuran']] = df[['classlabel', 'ukuran']].apply(\n",
        "    lambda col: col.map(class_mapping) if col.name == 'classlabel' else col.map(ukuran_mapping)\n",
        ")\n",
        "\n",
        "print(df)\n"
      ],
      "metadata": {
        "colab": {
          "base_uri": "https://localhost:8080/"
        },
        "id": "71zRd2lNq-dQ",
        "outputId": "4d454011-3857-4694-a4eb-c713321cac2a"
      },
      "execution_count": 10,
      "outputs": [
        {
          "output_type": "stream",
          "name": "stdout",
          "text": [
            "  nama_barang  ukuran   harga  classlabel\n",
            "0       rizal       3  767455           0\n",
            "1       abdul       3  603355           0\n",
            "2       rizal       1  735796           0\n",
            "3       rizal       3  714176           0\n",
            "4       abdul       2  684779           1\n",
            "5       abdul       1  847449           1\n",
            "6       rizal       2  921909           1\n",
            "7      adompo       2  965148           1\n",
            "8       rizal       2  758795           1\n",
            "9       rizal       2  986232           0\n"
          ]
        }
      ]
    },
    {
      "cell_type": "code",
      "source": [
        "#one-shot encoding"
      ],
      "metadata": {
        "id": "vzUMlOcXsgcU"
      },
      "execution_count": null,
      "outputs": []
    },
    {
      "cell_type": "code",
      "source": [
        "from sklearn.compose import ColumnTransformer\n",
        "from sklearn.preprocessing import OneHotEncoder\n",
        "\n"
      ],
      "metadata": {
        "id": "_mUlz9e5sjFs"
      },
      "execution_count": 14,
      "outputs": []
    },
    {
      "cell_type": "code",
      "source": [
        "# buat variable penampung sementara\n",
        "X = df[['nama_barang', 'ukuran', 'harga','classlabel']].values\n",
        "tabel_transform = ColumnTransformer([\n",
        "    ('onehot', OneHotEncoder(), [0]),\n",
        "    ('nothing','passthrough', [1,2,3])])\n",
        "\n",
        "df_hasil = tabel_transform.fit_transform(X)\n",
        "print(df_hasil)"
      ],
      "metadata": {
        "colab": {
          "base_uri": "https://localhost:8080/"
        },
        "id": "dKU3ObmWsulX",
        "outputId": "87020608-2b9c-4414-8f7e-e42d9e3f98e9"
      },
      "execution_count": 15,
      "outputs": [
        {
          "output_type": "stream",
          "name": "stdout",
          "text": [
            "[[0.0 0.0 1.0 3 767455 0]\n",
            " [1.0 0.0 0.0 3 603355 0]\n",
            " [0.0 0.0 1.0 1 735796 0]\n",
            " [0.0 0.0 1.0 3 714176 0]\n",
            " [1.0 0.0 0.0 2 684779 1]\n",
            " [1.0 0.0 0.0 1 847449 1]\n",
            " [0.0 0.0 1.0 2 921909 1]\n",
            " [0.0 1.0 0.0 2 965148 1]\n",
            " [0.0 0.0 1.0 2 758795 1]\n",
            " [0.0 0.0 1.0 2 986232 0]]\n"
          ]
        }
      ]
    },
    {
      "cell_type": "code",
      "source": [
        "import pandas as pd\n",
        "\n",
        "# Misal hasil one-hot menghasilkan 3 kolom: kol_abdul, kol_rizal, kol_adompo\n",
        "kolom = ['kol_abdul', 'kol_rizal', 'kol_adompo', 'ukuran', 'harga', 'classlabel']\n",
        "\n",
        "# Konversi ke DataFrame\n",
        "df_hasil_df = pd.DataFrame(df_hasil.toarray() if hasattr(df_hasil, 'toarray') else df_hasil, columns=kolom)\n",
        "\n",
        "# Tampilkan\n",
        "print(df_hasil_df)\n"
      ],
      "metadata": {
        "colab": {
          "base_uri": "https://localhost:8080/"
        },
        "id": "Rio067oRvedX",
        "outputId": "c21c8b59-21b1-4d9c-8e36-3748cdb74d39"
      },
      "execution_count": 18,
      "outputs": [
        {
          "output_type": "stream",
          "name": "stdout",
          "text": [
            "  kol_abdul kol_rizal kol_adompo ukuran   harga classlabel\n",
            "0       0.0       0.0        1.0      3  767455          0\n",
            "1       1.0       0.0        0.0      3  603355          0\n",
            "2       0.0       0.0        1.0      1  735796          0\n",
            "3       0.0       0.0        1.0      3  714176          0\n",
            "4       1.0       0.0        0.0      2  684779          1\n",
            "5       1.0       0.0        0.0      1  847449          1\n",
            "6       0.0       0.0        1.0      2  921909          1\n",
            "7       0.0       1.0        0.0      2  965148          1\n",
            "8       0.0       0.0        1.0      2  758795          1\n",
            "9       0.0       0.0        1.0      2  986232          0\n"
          ]
        }
      ]
    },
    {
      "cell_type": "code",
      "source": [
        "# contoh menggunakan library getDummies"
      ],
      "metadata": {
        "id": "gxOGc7irxgoQ"
      },
      "execution_count": 19,
      "outputs": []
    },
    {
      "cell_type": "code",
      "source": [
        "import pandas as pd\n",
        "import numpy as np\n",
        "\n",
        "# Seed agar hasil acak bisa direproduksi\n",
        "np.random.seed(42)\n",
        "\n",
        "# Buat DataFrame\n",
        "df = pd.DataFrame({\n",
        "    'nama_barang': np.random.choice(['abdul', 'rizal', 'adompo'], size=10),\n",
        "    'ukuran': np.random.choice(['S', 'M', 'XL'], size=10),\n",
        "    'harga': np.random.randint(500_000, 1_000_001, size=10),\n",
        "    'classlabel': np.random.choice(['class1', 'class2'], size=10)\n",
        "})\n",
        "\n",
        "# Mapping classlabel ke angka\n",
        "class_mapping = {label: idx for idx, label in enumerate(np.unique(df['classlabel']))}\n",
        "df['classlabel'] = df['classlabel'].map(class_mapping)\n",
        "\n",
        "# One-hot encoding kolom kategorikal, hasil dalam bentuk 0 dan 1\n",
        "df_encoded = pd.get_dummies(df, columns=['nama_barang', 'ukuran'], dtype=int)\n",
        "\n",
        "# Tampilkan hasil\n",
        "print(df_encoded)\n"
      ],
      "metadata": {
        "colab": {
          "base_uri": "https://localhost:8080/"
        },
        "id": "CJPHtS4fwUf3",
        "outputId": "6b912ff7-a5e6-49fd-8b13-49c9e0d8293c"
      },
      "execution_count": 22,
      "outputs": [
        {
          "output_type": "stream",
          "name": "stdout",
          "text": [
            "    harga  classlabel  nama_barang_abdul  nama_barang_adompo  \\\n",
            "0  767455           0                  0                   1   \n",
            "1  603355           0                  1                   0   \n",
            "2  735796           0                  0                   1   \n",
            "3  714176           0                  0                   1   \n",
            "4  684779           1                  1                   0   \n",
            "5  847449           1                  1                   0   \n",
            "6  921909           1                  0                   1   \n",
            "7  965148           1                  0                   0   \n",
            "8  758795           1                  0                   1   \n",
            "9  986232           0                  0                   1   \n",
            "\n",
            "   nama_barang_rizal  ukuran_M  ukuran_S  ukuran_XL  \n",
            "0                  0         0         0          1  \n",
            "1                  0         0         0          1  \n",
            "2                  0         0         1          0  \n",
            "3                  0         0         0          1  \n",
            "4                  0         1         0          0  \n",
            "5                  0         0         1          0  \n",
            "6                  0         1         0          0  \n",
            "7                  1         1         0          0  \n",
            "8                  0         1         0          0  \n",
            "9                  0         1         0          0  \n"
          ]
        }
      ]
    }
  ]
}